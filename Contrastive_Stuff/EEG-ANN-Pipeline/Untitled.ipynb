{
 "cells": [
  {
   "cell_type": "code",
   "execution_count": null,
   "id": "c7973ede-5b84-4075-8091-189ceaf5f057",
   "metadata": {},
   "outputs": [],
   "source": []
  }
 ],
 "metadata": {
  "kernelspec": {
   "display_name": "",
   "name": ""
  },
  "language_info": {
   "name": ""
  }
 },
 "nbformat": 4,
 "nbformat_minor": 5
}
